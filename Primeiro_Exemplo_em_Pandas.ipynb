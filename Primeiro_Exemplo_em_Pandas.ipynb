{
  "nbformat": 4,
  "nbformat_minor": 0,
  "metadata": {
    "colab": {
      "provenance": [],
      "mount_file_id": "15VcolFIKuE_X8B2nfL6oCWqsqphTXi-V",
      "authorship_tag": "ABX9TyPvbcjpmdXzrO3H6gCyP03n",
      "include_colab_link": true
    },
    "kernelspec": {
      "name": "python3",
      "display_name": "Python 3"
    },
    "language_info": {
      "name": "python"
    }
  },
  "cells": [
    {
      "cell_type": "markdown",
      "metadata": {
        "id": "view-in-github",
        "colab_type": "text"
      },
      "source": [
        "<a href=\"https://colab.research.google.com/github/allan-vent/allan-vent/blob/main/Primeiro_Exemplo_em_Pandas.ipynb\" target=\"_parent\"><img src=\"https://colab.research.google.com/assets/colab-badge.svg\" alt=\"Open In Colab\"/></a>"
      ]
    },
    {
      "cell_type": "markdown",
      "source": [
        "**Primeiro exemplo de manipulação de dados usando Python Pandas**\n",
        "\n",
        "Autor: Allan Ventura\n",
        "\n",
        "Data: 06 de fevereiro de 2023"
      ],
      "metadata": {
        "id": "8JO1xowiUgbQ"
      }
    },
    {
      "cell_type": "code",
      "execution_count": 3,
      "metadata": {
        "id": "3pdBexZACApw"
      },
      "outputs": [],
      "source": [
        "# Importando biblioteca pandas no Python\n",
        "import pandas as pd\n",
        "\n",
        "combustiveis_df = pd.read_csv(\"precos-semestrais-ca-2022-01\")"
      ]
    },
    {
      "cell_type": "code",
      "source": [
        "# Para instalar, use esse comando\n",
        "!pip install pandas"
      ],
      "metadata": {
        "id": "7zcyF6EoV8sl"
      },
      "execution_count": null,
      "outputs": []
    }
  ]
}